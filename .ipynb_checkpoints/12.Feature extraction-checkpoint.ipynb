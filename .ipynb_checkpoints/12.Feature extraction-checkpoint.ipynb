{
 "cells": [
  {
   "cell_type": "markdown",
   "metadata": {},
   "source": [
    "### Loading the Data"
   ]
  },
  {
   "cell_type": "code",
   "execution_count": 1,
   "metadata": {},
   "outputs": [
    {
     "data": {
      "text/plain": [
       "array([[ 1.,  0.,  0., 33.],\n",
       "       [ 0.,  1.,  0., 12.],\n",
       "       [ 0.,  0.,  1., 18.]])"
      ]
     },
     "execution_count": 1,
     "metadata": {},
     "output_type": "execute_result"
    }
   ],
   "source": [
    "# Loading features from dicts (DictVectorizer)\n",
    "from sklearn.feature_extraction import DictVectorizer\n",
    "\n",
    "# Creating array of dicts \n",
    "measurements = [\n",
    "    {'city': 'Dubai', 'temperature': 33.},\n",
    "    {'city': 'Londo', 'temperature': 12.},\n",
    "    {'city': 'San Francisco', 'temperature': 18.},\n",
    "]\n",
    "\n",
    "vec = DictVectorizer()\n",
    "vec.fit_transform(measurements).toarray()"
   ]
  },
  {
   "cell_type": "code",
   "execution_count": 2,
   "metadata": {},
   "outputs": [
    {
     "data": {
      "text/plain": [
       "['city=Dubai', 'city=Londo', 'city=San Francisco', 'temperature']"
      ]
     },
     "execution_count": 2,
     "metadata": {},
     "output_type": "execute_result"
    }
   ],
   "source": [
    "# Printing the names of the new features\n",
    "vec.get_feature_names()"
   ]
  },
  {
   "cell_type": "markdown",
   "metadata": {},
   "source": [
    "### Feature hashing (FeatureHasher)"
   ]
  },
  {
   "cell_type": "code",
   "execution_count": 3,
   "metadata": {},
   "outputs": [
    {
     "data": {
      "text/plain": [
       "array([[ 0.,  1., -4.,  2.],\n",
       "       [-5., -2.,  0., -7.]])"
      ]
     },
     "execution_count": 3,
     "metadata": {},
     "output_type": "execute_result"
    }
   ],
   "source": [
    "from sklearn.feature_extraction import FeatureHasher\n",
    "\n",
    "# Creating array of dicts\n",
    "data = [\n",
    "    {'dog': -1, 'cat': 2, 'elephant': 4},\n",
    "    {'dog': 2, 'run': 5, 'cat':-7}\n",
    "]\n",
    "\n",
    "h = FeatureHasher(n_features=4)\n",
    "h.transform(data).toarray()"
   ]
  },
  {
   "cell_type": "markdown",
   "metadata": {},
   "source": [
    "### Text feature extraction\n",
    "\n",
    "<ul>\n",
    "    <li><b>tokenizing</b> strings and giving an integer id for each possible token.</li>\n",
    "    <li><b>counting</b> the occurrences of tokens in each document.</li>\n",
    "    <li><b>normalizing</b> and weighting with diminishing importance tokens that occur in the majority of samples / documents.</li>\n",
    "</ul>"
   ]
  },
  {
   "cell_type": "code",
   "execution_count": 4,
   "metadata": {},
   "outputs": [
    {
     "data": {
      "text/plain": [
       "array([[0, 1, 1, 0, 1, 1, 1],\n",
       "       [0, 1, 0, 1, 1, 1, 1],\n",
       "       [1, 1, 0, 0, 1, 0, 1]], dtype=int64)"
      ]
     },
     "execution_count": 4,
     "metadata": {},
     "output_type": "execute_result"
    }
   ],
   "source": [
    "from sklearn.feature_extraction.text import CountVectorizer\n",
    "\n",
    "# Creating Dataset\n",
    "data = [\n",
    "    'Test sentence one of three.',\n",
    "    'Second test sentence of three.',\n",
    "    'Last sentence of three.'\n",
    "]\n",
    "\n",
    "vec = CountVectorizer()\n",
    "\n",
    "vec.fit_transform(data).toarray()"
   ]
  },
  {
   "cell_type": "code",
   "execution_count": 5,
   "metadata": {},
   "outputs": [
    {
     "data": {
      "text/plain": [
       "array([[0, 0, 0, 0, 1, 0, 0]])"
      ]
     },
     "execution_count": 5,
     "metadata": {},
     "output_type": "execute_result"
    }
   ],
   "source": [
    "vec.transform(['New sentence']).toarray()"
   ]
  },
  {
   "cell_type": "code",
   "execution_count": 6,
   "metadata": {},
   "outputs": [
    {
     "data": {
      "text/plain": [
       "array([[0, 1, 1, 0, 1, 1, 1],\n",
       "       [0, 1, 0, 1, 1, 1, 1],\n",
       "       [1, 1, 0, 0, 1, 0, 1]])"
      ]
     },
     "execution_count": 6,
     "metadata": {},
     "output_type": "execute_result"
    }
   ],
   "source": [
    "from sklearn.feature_extraction.text import TfidfTransformer\n",
    "\n",
    "data_vec = vec.transform(data).toarray()\n",
    "data_vec"
   ]
  },
  {
   "cell_type": "code",
   "execution_count": 7,
   "metadata": {},
   "outputs": [
    {
     "data": {
      "text/plain": [
       "array([[0.        , 0.3645444 , 0.61722732, 0.        , 0.3645444 ,\n",
       "        0.46941728, 0.3645444 ],\n",
       "       [0.        , 0.3645444 , 0.        , 0.61722732, 0.3645444 ,\n",
       "        0.46941728, 0.3645444 ],\n",
       "       [0.69903033, 0.41285857, 0.        , 0.        , 0.41285857,\n",
       "        0.        , 0.41285857]])"
      ]
     },
     "execution_count": 7,
     "metadata": {},
     "output_type": "execute_result"
    }
   ],
   "source": [
    "tfidf = TfidfTransformer()\n",
    "data_vec_weighted = tfidf.fit_transform(data_vec)\n",
    "data_vec_weighted.toarray()"
   ]
  },
  {
   "cell_type": "code",
   "execution_count": 8,
   "metadata": {},
   "outputs": [
    {
     "data": {
      "text/plain": [
       "array([[0.        , 0.3645444 , 0.61722732, 0.        , 0.3645444 ,\n",
       "        0.46941728, 0.3645444 ],\n",
       "       [0.        , 0.3645444 , 0.        , 0.61722732, 0.3645444 ,\n",
       "        0.46941728, 0.3645444 ],\n",
       "       [0.69903033, 0.41285857, 0.        , 0.        , 0.41285857,\n",
       "        0.        , 0.41285857]])"
      ]
     },
     "execution_count": 8,
     "metadata": {},
     "output_type": "execute_result"
    }
   ],
   "source": [
    "from sklearn.feature_extraction.text import TfidfVectorizer\n",
    "\n",
    "tfidf_vec = TfidfVectorizer()\n",
    "tfidf_vec.fit_transform(data).toarray()"
   ]
  }
 ],
 "metadata": {
  "kernelspec": {
   "display_name": "Python 3",
   "language": "python",
   "name": "python3"
  },
  "language_info": {
   "codemirror_mode": {
    "name": "ipython",
    "version": 3
   },
   "file_extension": ".py",
   "mimetype": "text/x-python",
   "name": "python",
   "nbconvert_exporter": "python",
   "pygments_lexer": "ipython3",
   "version": "3.7.4"
  }
 },
 "nbformat": 4,
 "nbformat_minor": 2
}
